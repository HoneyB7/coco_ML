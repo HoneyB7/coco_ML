{
 "metadata": {
  "name": "",
  "signature": "sha256:684aef8dbbc080a97666a64a1a7dc059d21cd76064fd2d28d89bda5b800fd326"
 },
 "nbformat": 3,
 "nbformat_minor": 0,
 "worksheets": [
  {
   "cells": [
    {
     "cell_type": "markdown",
     "metadata": {},
     "source": [
      "#<font color = 'royalblue'><b>[Naive Bayes]</b></font>"
     ]
    },
    {
     "cell_type": "markdown",
     "metadata": {},
     "source": [
      "<font color = 'lightgray'>keywords : Bayes theorem - Naive bayesian, posterior, prior, likelihood , conditional probability..</font>"
     ]
    },
    {
     "cell_type": "markdown",
     "metadata": {},
     "source": [
      "## <font color = 'deepskyblue'><b>1. Probability, Sum rule, Joint Probability, Conditional Probability </b></font><br><br>\n",
      "\n",
      "\n",
      "<a href=\"https://www.flickr.com/photos/131520363@N08/16963036251\" title=\"1 by Hye In Lee, on Flickr\"><img src=\"https://farm9.staticflickr.com/8714/16963036251_4e071b2afc_c.jpg\" width=\"800\" height=\"270\" alt=\"1\"></a>\n",
      "\n",
      "\n",
      "\n",
      "- <b>\uc0c1\uc790\uc5d0\uc11c A \uce74\ub4dc\uac00 \ub098\uc62c \ud655\ub960 / \uc0c1\uc790\uc5d0\uc11c B \uce74\ub4dc\uac00 \ub098\uc62c \ud655\ub960 <font color = 'blue'><b>(Probability)</b></font>\n",
      "\n",
      "    $ P(X=A) = P(A) = 4/6 $\n",
      "    \n",
      "    $ P(X=B) = P(B) = 2/6 $\n",
      "    \n",
      "\n",
      "\n",
      "- <b><font color = 'red'> \ube68\uac04\ubcc4</font>\uc774 \ub098\uc62c \ud655\ub960 <font color = 'blue'><b> (Sum rule)</b></font>\n",
      "\n",
      "    $ P(Red|A)P(A)+P(Red|B)P(B)\\\\ =\\frac { 4 }{ 6 } \\times \\frac { 4 }{ 6 } +\\frac { 2 }{ 6 } \\times \\frac { 3 }{ 6 } \\\\ =\\frac { 16 }{ 36 } +\\frac { 6 }{ 36 } \\\\ =\\frac { 22 }{ 36 } \\\\ =\\frac { 11 }{ 18 } $\n",
      "  \n",
      "  \n",
      "    \n",
      "- <b>\uc8fc\uba38\ub2c8 A\uc5d0\uc11c <font color = 'red'> \ube68\uac04\ubcc4 </font>\uc774 \ub098\uc62c \ud655\ub960 <font color = 'blue'><b> (Conditional Probability) </b></font></b>\n",
      "\n",
      "    \uc120\ud589\uc870\uac74 : \uc8fc\uba38\ub2c8 A\uac00 \uc120\ud0dd\ub428\n",
      "    \n",
      "    $ P(Y=Red | X=A) = P(Red | A) = 4/6 $\n",
      "    \n",
      "    \n",
      "    \n",
      "- <b>\uc0c1\uc790\uc5d0\uc11c A \uce74\ub4dc\uac00 \ub098\uc624\uace0, A \uc8fc\uba38\ub2c8\uc5d0\uc11c <font color = 'red'> \ube68\uac04\ubcc4 </font>\uc774 \ub098\uc62c \ud655\ub960 <font color = 'blue'><b>(Joint Probability)</font></b>\n",
      "\n",
      "    $P(X=A, Y=Red) = P(Red|A)P(A)$\n",
      "\n",
      "\n",
      "##<font color = 'deepskyblue'><b> 2. Bayes' Rule </b></font>\n",
      "\n",
      "\n",
      "- \"\ube68\uac04\ubcc4\uc774 \ubf51\ud614\uc744\ub54c, <font color = 'red'><b>\uc774 \ube68\uac04\ubcc4\uc774 \uc5b4\ub5a4 \uc8fc\uba38\ub2c8\uc5d0\uc11c \ub098\uc654\uc744\uae4c?</b></font>\" \uc758 \ud655\ub960\uc744 \ucc3e\ub294\ub370 \ubca0\uc774\uc988 \uc815\ub9ac\uac00 \uc774\uc6a9\ub41c\ub2e4.\n",
      "- \uc0ac\uc804\ud655\ub960(Prior Probability)\uacfc \uc870\uac74\ubd80\ud655\ub960(Conditional Probability)\uc744 \uc774\uc6a9\ud558\uc5ec <font color = 'blue'><b> \uc0ac\ud6c4\ud655\ub960(Posterior Probability)</b></font>\uc744 \uad6c\ud560 \uc218 \uc788\ub2e4.\n",
      "\n",
      "\n",
      "<a href=\"https://www.flickr.com/photos/131520363@N08/16778068120\" title=\"2 by Hye In Lee, on Flickr\"><img src=\"https://farm8.staticflickr.com/7584/16778068120_5159dee6ce_n.jpg\" width=\"320\" height=\"212\" alt=\"2\"></a>\n",
      "\n",
      "\n",
      "- <font color = 'blue'><b>Bayes' Rule</b></font>\n",
      "\n",
      "<a href=\"https://www.flickr.com/photos/131520363@N08/16965732175\" title=\"3 by Hye In Lee, on Flickr\"><img src=\"https://farm9.staticflickr.com/8721/16965732175_f061a27793_m.jpg\" width=\"235\" height=\"240\" alt=\"3\"></a>\n",
      "\n",
      "(1) \ube68\uac04\ubcc4\uc774 A \uc8fc\uba38\ub2c8\uc5d0\uc11c \ub098\uc654\uc744 \ud655\ub960\n",
      "\n",
      "   $ P(A|Red)=\\frac { P(Red|A)P(A) }{ P(Red) } $\n",
      "\n",
      "(2) \ube68\uac04\ubcc4\uc774 B \uc8fc\uba38\ub2c8\uc5d0\uc11c \ub098\uc654\uc744 \ud655\ub960\n",
      "\n",
      "   $ P(B|Red)=\\frac { P(Red|B)P(B) }{ P(Red) } $"
     ]
    },
    {
     "cell_type": "markdown",
     "metadata": {},
     "source": [
      "## <font color = 'deepskyblue'><b> 3. Pure, Naive, Semi-naive Bayesian </b></font>"
     ]
    },
    {
     "cell_type": "markdown",
     "metadata": {},
     "source": [
      "\uc870\uac74\ubd80\ud655\ub960\uc744 \uc5b4\ub5a4\uc2dd\uc73c\ub85c \uacc4\uc0b0\ud558\ub290\ub0d0\uc5d0 \ub530\ub77c Pure, Naive, Semi-Naive\ub85c \uad6c\ubd84\ub41c\ub2e4.\n",
      "\n",
      "<a href=\"https://www.flickr.com/photos/131520363@N08/16785753568\" title=\"4 by Hye In Lee, on Flickr\"><img src=\"https://farm8.staticflickr.com/7587/16785753568_521744c7ce.jpg\" width=\"379\" height=\"120\" alt=\"4\"></a>\n",
      "\n",
      "- Pure : \ubaa8\ub4e0 feature\ub4e4\uc774 \uc0c1\uad00\uad00\uacc4\uac00 1\uc774\ub77c\uace0 \uac00\uc815\ud558\uace0 Likelihood\ub97c \uad6c\ud568.\n",
      "- Naive : \ubaa8\ub4e0 feature\ub4e4\uc758 \uc0c1\uad00\uad00\uacc4\uac00 0\uc774\ub77c\uace0 \uac00\uc815\ud558\uace0 Likelihood\ub97c \uad6c\ud568.\n",
      "- Semi-Naive : feature\ub4e4\uc744 \uc0c1\uad00\uad00\uacc4\uac00 \uc788\ub294\uac83\ub4e4\ub07c\ub9ac \uadf8\ub8f9\ud551\ud558\uc5ec, \uadf8\ub8f9\uc548\uc5d0\uc11c\ub294 \uc0c1\uad00\uad00\uacc4\uac00 1\uc774\ub77c\uace0 \uac00\uc815\ud558\uace0 \uacc4\uc0b0, \ub2e4\ub978 \uadf8\ub8f9\ub07c\ub9ac\ub294 \uc0c1\uad00\uad00\uacc4\uac00 0\uc774\ub77c\uace0 \uac00\uc815\ud558\uace0 Likelihood\ub97c \uad6c\ud568.\n"
     ]
    },
    {
     "cell_type": "markdown",
     "metadata": {},
     "source": [
      "#<font color = 'royalblue'><b>[Python CODE]</b></font>"
     ]
    },
    {
     "cell_type": "code",
     "collapsed": false,
     "input": [],
     "language": "python",
     "metadata": {},
     "outputs": []
    }
   ],
   "metadata": {}
  }
 ]
}